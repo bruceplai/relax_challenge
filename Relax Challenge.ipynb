{
 "cells": [
  {
   "cell_type": "code",
   "execution_count": 1,
   "metadata": {},
   "outputs": [],
   "source": [
    "import pandas as pd\n",
    "import numpy as np\n",
    "import matplotlib.pyplot as plt\n",
    "\n",
    "%matplotlib inline"
   ]
  },
  {
   "cell_type": "markdown",
   "metadata": {},
   "source": [
    "<b>Load user and engagement data and parse dates.</b>"
   ]
  },
  {
   "cell_type": "code",
   "execution_count": 2,
   "metadata": {},
   "outputs": [],
   "source": [
    "user_df = pd.read_csv('takehome_users.csv', encoding='ISO-8859-1', parse_dates=['creation_time', 'last_session_creation_time'])\n",
    "engagement_df = pd.read_csv('takehome_user_engagement.csv', parse_dates=['time_stamp'])"
   ]
  },
  {
   "cell_type": "markdown",
   "metadata": {},
   "source": [
    "<b>Initial data exploration for takehome_users.  We see a lot of null values for last_session_creation_time and invited_by_user_id.  We can either drop entries missing those values or engineer new features from them.</b>"
   ]
  },
  {
   "cell_type": "code",
   "execution_count": 3,
   "metadata": {},
   "outputs": [
    {
     "name": "stdout",
     "output_type": "stream",
     "text": [
      "<class 'pandas.core.frame.DataFrame'>\n",
      "RangeIndex: 12000 entries, 0 to 11999\n",
      "Data columns (total 10 columns):\n",
      " #   Column                      Non-Null Count  Dtype         \n",
      "---  ------                      --------------  -----         \n",
      " 0   object_id                   12000 non-null  int64         \n",
      " 1   creation_time               12000 non-null  datetime64[ns]\n",
      " 2   name                        12000 non-null  object        \n",
      " 3   email                       12000 non-null  object        \n",
      " 4   creation_source             12000 non-null  object        \n",
      " 5   last_session_creation_time  8823 non-null   object        \n",
      " 6   opted_in_to_mailing_list    12000 non-null  int64         \n",
      " 7   enabled_for_marketing_drip  12000 non-null  int64         \n",
      " 8   org_id                      12000 non-null  int64         \n",
      " 9   invited_by_user_id          6417 non-null   float64       \n",
      "dtypes: datetime64[ns](1), float64(1), int64(4), object(4)\n",
      "memory usage: 937.6+ KB\n"
     ]
    },
    {
     "data": {
      "text/html": [
       "<div>\n",
       "<style scoped>\n",
       "    .dataframe tbody tr th:only-of-type {\n",
       "        vertical-align: middle;\n",
       "    }\n",
       "\n",
       "    .dataframe tbody tr th {\n",
       "        vertical-align: top;\n",
       "    }\n",
       "\n",
       "    .dataframe thead th {\n",
       "        text-align: right;\n",
       "    }\n",
       "</style>\n",
       "<table border=\"1\" class=\"dataframe\">\n",
       "  <thead>\n",
       "    <tr style=\"text-align: right;\">\n",
       "      <th></th>\n",
       "      <th>object_id</th>\n",
       "      <th>creation_time</th>\n",
       "      <th>name</th>\n",
       "      <th>email</th>\n",
       "      <th>creation_source</th>\n",
       "      <th>last_session_creation_time</th>\n",
       "      <th>opted_in_to_mailing_list</th>\n",
       "      <th>enabled_for_marketing_drip</th>\n",
       "      <th>org_id</th>\n",
       "      <th>invited_by_user_id</th>\n",
       "    </tr>\n",
       "  </thead>\n",
       "  <tbody>\n",
       "    <tr>\n",
       "      <th>0</th>\n",
       "      <td>1</td>\n",
       "      <td>2014-04-22 03:53:30</td>\n",
       "      <td>Clausen August</td>\n",
       "      <td>AugustCClausen@yahoo.com</td>\n",
       "      <td>GUEST_INVITE</td>\n",
       "      <td>1398138810</td>\n",
       "      <td>1</td>\n",
       "      <td>0</td>\n",
       "      <td>11</td>\n",
       "      <td>10803.0</td>\n",
       "    </tr>\n",
       "    <tr>\n",
       "      <th>1</th>\n",
       "      <td>2</td>\n",
       "      <td>2013-11-15 03:45:04</td>\n",
       "      <td>Poole Matthew</td>\n",
       "      <td>MatthewPoole@gustr.com</td>\n",
       "      <td>ORG_INVITE</td>\n",
       "      <td>1396237504</td>\n",
       "      <td>0</td>\n",
       "      <td>0</td>\n",
       "      <td>1</td>\n",
       "      <td>316.0</td>\n",
       "    </tr>\n",
       "    <tr>\n",
       "      <th>2</th>\n",
       "      <td>3</td>\n",
       "      <td>2013-03-19 23:14:52</td>\n",
       "      <td>Bottrill Mitchell</td>\n",
       "      <td>MitchellBottrill@gustr.com</td>\n",
       "      <td>ORG_INVITE</td>\n",
       "      <td>1363734892</td>\n",
       "      <td>0</td>\n",
       "      <td>0</td>\n",
       "      <td>94</td>\n",
       "      <td>1525.0</td>\n",
       "    </tr>\n",
       "    <tr>\n",
       "      <th>3</th>\n",
       "      <td>4</td>\n",
       "      <td>2013-05-21 08:09:28</td>\n",
       "      <td>Clausen Nicklas</td>\n",
       "      <td>NicklasSClausen@yahoo.com</td>\n",
       "      <td>GUEST_INVITE</td>\n",
       "      <td>1369210168</td>\n",
       "      <td>0</td>\n",
       "      <td>0</td>\n",
       "      <td>1</td>\n",
       "      <td>5151.0</td>\n",
       "    </tr>\n",
       "    <tr>\n",
       "      <th>4</th>\n",
       "      <td>5</td>\n",
       "      <td>2013-01-17 10:14:20</td>\n",
       "      <td>Raw Grace</td>\n",
       "      <td>GraceRaw@yahoo.com</td>\n",
       "      <td>GUEST_INVITE</td>\n",
       "      <td>1358849660</td>\n",
       "      <td>0</td>\n",
       "      <td>0</td>\n",
       "      <td>193</td>\n",
       "      <td>5240.0</td>\n",
       "    </tr>\n",
       "  </tbody>\n",
       "</table>\n",
       "</div>"
      ],
      "text/plain": [
       "   object_id       creation_time               name  \\\n",
       "0          1 2014-04-22 03:53:30     Clausen August   \n",
       "1          2 2013-11-15 03:45:04      Poole Matthew   \n",
       "2          3 2013-03-19 23:14:52  Bottrill Mitchell   \n",
       "3          4 2013-05-21 08:09:28    Clausen Nicklas   \n",
       "4          5 2013-01-17 10:14:20          Raw Grace   \n",
       "\n",
       "                        email creation_source last_session_creation_time  \\\n",
       "0    AugustCClausen@yahoo.com    GUEST_INVITE                 1398138810   \n",
       "1      MatthewPoole@gustr.com      ORG_INVITE                 1396237504   \n",
       "2  MitchellBottrill@gustr.com      ORG_INVITE                 1363734892   \n",
       "3   NicklasSClausen@yahoo.com    GUEST_INVITE                 1369210168   \n",
       "4          GraceRaw@yahoo.com    GUEST_INVITE                 1358849660   \n",
       "\n",
       "   opted_in_to_mailing_list  enabled_for_marketing_drip  org_id  \\\n",
       "0                         1                           0      11   \n",
       "1                         0                           0       1   \n",
       "2                         0                           0      94   \n",
       "3                         0                           0       1   \n",
       "4                         0                           0     193   \n",
       "\n",
       "   invited_by_user_id  \n",
       "0             10803.0  \n",
       "1               316.0  \n",
       "2              1525.0  \n",
       "3              5151.0  \n",
       "4              5240.0  "
      ]
     },
     "execution_count": 3,
     "metadata": {},
     "output_type": "execute_result"
    }
   ],
   "source": [
    "user_df.info()\n",
    "user_df.head()"
   ]
  },
  {
   "cell_type": "markdown",
   "metadata": {},
   "source": [
    "<b>Since so many invited_by_user_id values are null, we will create a binary feature that displays whether or not the user was invited by another user.</b>"
   ]
  },
  {
   "cell_type": "code",
   "execution_count": 4,
   "metadata": {},
   "outputs": [
    {
     "data": {
      "text/plain": [
       "1    6417\n",
       "0    5583\n",
       "Name: invited_by_other_user, dtype: int64"
      ]
     },
     "execution_count": 4,
     "metadata": {},
     "output_type": "execute_result"
    }
   ],
   "source": [
    "user_df['invited_by_other_user'] = np.where(np.isnan(user_df.invited_by_user_id), 0, 1)\n",
    "user_df.invited_by_other_user.value_counts()"
   ]
  },
  {
   "cell_type": "markdown",
   "metadata": {},
   "source": [
    "<b>Categorize creation_source to numerical values.</b>"
   ]
  },
  {
   "cell_type": "code",
   "execution_count": 5,
   "metadata": {},
   "outputs": [],
   "source": [
    "user_df['creation_source'] = user_df.creation_source.astype('category')\n",
    "user_df['creation_source'] = user_df.creation_source.cat.codes"
   ]
  },
  {
   "cell_type": "markdown",
   "metadata": {},
   "source": [
    "<b>Initial data exploration for takehome_user_engagement. Data seems clean so will go ahead and process the time_stamps to check whether or not each user should be counted as engaged.</b>"
   ]
  },
  {
   "cell_type": "code",
   "execution_count": 6,
   "metadata": {},
   "outputs": [
    {
     "name": "stdout",
     "output_type": "stream",
     "text": [
      "<class 'pandas.core.frame.DataFrame'>\n",
      "RangeIndex: 207917 entries, 0 to 207916\n",
      "Data columns (total 3 columns):\n",
      " #   Column      Non-Null Count   Dtype         \n",
      "---  ------      --------------   -----         \n",
      " 0   time_stamp  207917 non-null  datetime64[ns]\n",
      " 1   user_id     207917 non-null  int64         \n",
      " 2   visited     207917 non-null  int64         \n",
      "dtypes: datetime64[ns](1), int64(2)\n",
      "memory usage: 4.8 MB\n"
     ]
    },
    {
     "data": {
      "text/html": [
       "<div>\n",
       "<style scoped>\n",
       "    .dataframe tbody tr th:only-of-type {\n",
       "        vertical-align: middle;\n",
       "    }\n",
       "\n",
       "    .dataframe tbody tr th {\n",
       "        vertical-align: top;\n",
       "    }\n",
       "\n",
       "    .dataframe thead th {\n",
       "        text-align: right;\n",
       "    }\n",
       "</style>\n",
       "<table border=\"1\" class=\"dataframe\">\n",
       "  <thead>\n",
       "    <tr style=\"text-align: right;\">\n",
       "      <th></th>\n",
       "      <th>time_stamp</th>\n",
       "      <th>user_id</th>\n",
       "      <th>visited</th>\n",
       "    </tr>\n",
       "  </thead>\n",
       "  <tbody>\n",
       "    <tr>\n",
       "      <th>0</th>\n",
       "      <td>2014-04-22 03:53:30</td>\n",
       "      <td>1</td>\n",
       "      <td>1</td>\n",
       "    </tr>\n",
       "    <tr>\n",
       "      <th>1</th>\n",
       "      <td>2013-11-15 03:45:04</td>\n",
       "      <td>2</td>\n",
       "      <td>1</td>\n",
       "    </tr>\n",
       "    <tr>\n",
       "      <th>2</th>\n",
       "      <td>2013-11-29 03:45:04</td>\n",
       "      <td>2</td>\n",
       "      <td>1</td>\n",
       "    </tr>\n",
       "    <tr>\n",
       "      <th>3</th>\n",
       "      <td>2013-12-09 03:45:04</td>\n",
       "      <td>2</td>\n",
       "      <td>1</td>\n",
       "    </tr>\n",
       "    <tr>\n",
       "      <th>4</th>\n",
       "      <td>2013-12-25 03:45:04</td>\n",
       "      <td>2</td>\n",
       "      <td>1</td>\n",
       "    </tr>\n",
       "  </tbody>\n",
       "</table>\n",
       "</div>"
      ],
      "text/plain": [
       "           time_stamp  user_id  visited\n",
       "0 2014-04-22 03:53:30        1        1\n",
       "1 2013-11-15 03:45:04        2        1\n",
       "2 2013-11-29 03:45:04        2        1\n",
       "3 2013-12-09 03:45:04        2        1\n",
       "4 2013-12-25 03:45:04        2        1"
      ]
     },
     "execution_count": 6,
     "metadata": {},
     "output_type": "execute_result"
    }
   ],
   "source": [
    "engagement_df.info()\n",
    "engagement_df.head()"
   ]
  },
  {
   "cell_type": "markdown",
   "metadata": {},
   "source": [
    "<b>Group engagement data by user_id.  Check for time_stamp series that are 3 or longer.  Of those 3 or longer, then run a 3 time_stamp window over them to see if any are less than or equal to 7 days.  If so, then mark those user_id entries as engaged = 1 (True).  Otherwise mark as engaged = 0 (False).</b>"
   ]
  },
  {
   "cell_type": "code",
   "execution_count": 8,
   "metadata": {},
   "outputs": [],
   "source": [
    "def find_adopted_users(row):\n",
    "    tstamp_tuple = row['time_stamp']\n",
    "    num_tstamps = len(tstamp_tuple)\n",
    "    engaged = 0\n",
    "    if num_tstamps > 2:\n",
    "        for tstamp in tstamp_tuple:\n",
    "            if tstamp_tuple.index(tstamp) + 2 < num_tstamps \\\n",
    "                and (tstamp_tuple[tstamp_tuple.index(tstamp) + 2] - tstamp).days <= 7:\n",
    "                    engaged = 1\n",
    "                    break\n",
    "    row['engaged'] = engaged\n",
    "    return row\n",
    "\n",
    "engagement_grouped = engagement_df.groupby(by='user_id').aggregate(lambda x: tuple(x)).reset_index()\n",
    "engagement_grouped = engagement_grouped.apply(find_adopted_users, axis=1)"
   ]
  },
  {
   "cell_type": "code",
   "execution_count": 9,
   "metadata": {},
   "outputs": [
    {
     "data": {
      "text/html": [
       "<div>\n",
       "<style scoped>\n",
       "    .dataframe tbody tr th:only-of-type {\n",
       "        vertical-align: middle;\n",
       "    }\n",
       "\n",
       "    .dataframe tbody tr th {\n",
       "        vertical-align: top;\n",
       "    }\n",
       "\n",
       "    .dataframe thead th {\n",
       "        text-align: right;\n",
       "    }\n",
       "</style>\n",
       "<table border=\"1\" class=\"dataframe\">\n",
       "  <thead>\n",
       "    <tr style=\"text-align: right;\">\n",
       "      <th></th>\n",
       "      <th>user_id</th>\n",
       "      <th>time_stamp</th>\n",
       "      <th>visited</th>\n",
       "      <th>engaged</th>\n",
       "    </tr>\n",
       "  </thead>\n",
       "  <tbody>\n",
       "    <tr>\n",
       "      <th>0</th>\n",
       "      <td>1</td>\n",
       "      <td>(2014-04-22 03:53:30,)</td>\n",
       "      <td>(1,)</td>\n",
       "      <td>0</td>\n",
       "    </tr>\n",
       "    <tr>\n",
       "      <th>1</th>\n",
       "      <td>2</td>\n",
       "      <td>(2013-11-15 03:45:04, 2013-11-29 03:45:04, 201...</td>\n",
       "      <td>(1, 1, 1, 1, 1, 1, 1, 1, 1, 1, 1, 1, 1, 1)</td>\n",
       "      <td>1</td>\n",
       "    </tr>\n",
       "    <tr>\n",
       "      <th>2</th>\n",
       "      <td>3</td>\n",
       "      <td>(2013-03-19 23:14:52,)</td>\n",
       "      <td>(1,)</td>\n",
       "      <td>0</td>\n",
       "    </tr>\n",
       "    <tr>\n",
       "      <th>3</th>\n",
       "      <td>4</td>\n",
       "      <td>(2013-05-22 08:09:28,)</td>\n",
       "      <td>(1,)</td>\n",
       "      <td>0</td>\n",
       "    </tr>\n",
       "    <tr>\n",
       "      <th>4</th>\n",
       "      <td>5</td>\n",
       "      <td>(2013-01-22 10:14:20,)</td>\n",
       "      <td>(1,)</td>\n",
       "      <td>0</td>\n",
       "    </tr>\n",
       "  </tbody>\n",
       "</table>\n",
       "</div>"
      ],
      "text/plain": [
       "   user_id                                         time_stamp  \\\n",
       "0        1                             (2014-04-22 03:53:30,)   \n",
       "1        2  (2013-11-15 03:45:04, 2013-11-29 03:45:04, 201...   \n",
       "2        3                             (2013-03-19 23:14:52,)   \n",
       "3        4                             (2013-05-22 08:09:28,)   \n",
       "4        5                             (2013-01-22 10:14:20,)   \n",
       "\n",
       "                                      visited  engaged  \n",
       "0                                        (1,)        0  \n",
       "1  (1, 1, 1, 1, 1, 1, 1, 1, 1, 1, 1, 1, 1, 1)        1  \n",
       "2                                        (1,)        0  \n",
       "3                                        (1,)        0  \n",
       "4                                        (1,)        0  "
      ]
     },
     "execution_count": 9,
     "metadata": {},
     "output_type": "execute_result"
    }
   ],
   "source": [
    "engagement_grouped.head()"
   ]
  },
  {
   "cell_type": "markdown",
   "metadata": {},
   "source": [
    "<b>Merge the engaged target labels with the user_df.  A lot of entries are dropped due to user_id values being missing from the engagement data.  This means we just don't have any login time_stamp info for about 4000 users and can't label them accurately.  They should not be included in a supervised learning scenario.</b>"
   ]
  },
  {
   "cell_type": "code",
   "execution_count": 10,
   "metadata": {},
   "outputs": [],
   "source": [
    "user_df = user_df.merge(engagement_grouped[['engaged', 'user_id']], left_on='object_id', right_on='user_id')"
   ]
  },
  {
   "cell_type": "code",
   "execution_count": 11,
   "metadata": {},
   "outputs": [
    {
     "name": "stdout",
     "output_type": "stream",
     "text": [
      "<class 'pandas.core.frame.DataFrame'>\n",
      "Int64Index: 8823 entries, 0 to 8822\n",
      "Data columns (total 13 columns):\n",
      " #   Column                      Non-Null Count  Dtype         \n",
      "---  ------                      --------------  -----         \n",
      " 0   object_id                   8823 non-null   int64         \n",
      " 1   creation_time               8823 non-null   datetime64[ns]\n",
      " 2   name                        8823 non-null   object        \n",
      " 3   email                       8823 non-null   object        \n",
      " 4   creation_source             8823 non-null   int8          \n",
      " 5   last_session_creation_time  8823 non-null   object        \n",
      " 6   opted_in_to_mailing_list    8823 non-null   int64         \n",
      " 7   enabled_for_marketing_drip  8823 non-null   int64         \n",
      " 8   org_id                      8823 non-null   int64         \n",
      " 9   invited_by_user_id          4776 non-null   float64       \n",
      " 10  invited_by_other_user       8823 non-null   int32         \n",
      " 11  engaged                     8823 non-null   int64         \n",
      " 12  user_id                     8823 non-null   int64         \n",
      "dtypes: datetime64[ns](1), float64(1), int32(1), int64(6), int8(1), object(3)\n",
      "memory usage: 870.2+ KB\n"
     ]
    }
   ],
   "source": [
    "user_df.info()"
   ]
  },
  {
   "cell_type": "markdown",
   "metadata": {},
   "source": [
    "<b>It seems we don't have to drop any more entries due to missing last_session_creation_time so we will convert that column to numerical values.</b>"
   ]
  },
  {
   "cell_type": "code",
   "execution_count": 12,
   "metadata": {},
   "outputs": [],
   "source": [
    "user_df['last_session_creation_time'] = user_df.last_session_creation_time.astype('int')"
   ]
  },
  {
   "cell_type": "markdown",
   "metadata": {},
   "source": [
    "<b>From the correlation matrix, we see that opted_in_to_mailing_list and enabled_for_marketing_drip are highly correlated.  We also see that creation_source is highly negatively correlated with invited_by_other_user.  We will not use all of these features since they do not all contribute significantly to prediction of the engaged value.</b>"
   ]
  },
  {
   "cell_type": "code",
   "execution_count": 14,
   "metadata": {},
   "outputs": [
    {
     "data": {
      "text/plain": [
       "<matplotlib.axes._subplots.AxesSubplot at 0x28b18eb17b8>"
      ]
     },
     "execution_count": 14,
     "metadata": {},
     "output_type": "execute_result"
    },
    {
     "data": {
      "image/png": "[encoded data removed]",
      "text/plain": [
       "<Figure size 792x648 with 2 Axes>"
      ]
     },
     "metadata": {},
     "output_type": "display_data"
    }
   ],
   "source": [
    "import seaborn as sns\n",
    "import matplotlib.pyplot as plt\n",
    "\n",
    "sns.set(style=\"white\")\n",
    "fig, ax = plt.subplots(figsize=(11, 9))\n",
    "cmap = sns.diverging_palette(220, 10, as_cmap=True)\n",
    "sns.heatmap(user_df.corr(), cmap=cmap, vmax=1, vmin=-1, center=0, square=True, linewidths=.5, cbar_kws={\"shrink\": .5})"
   ]
  },
  {
   "cell_type": "markdown",
   "metadata": {},
   "source": [
    "<b>\n",
    "    <p>After excluding object_id and user_id (both of which are user IDs and not relevant to any modeling), we arrive at our full feature set: 'creation_source', 'last_session_creation_time', 'opted_in_to_mailing_list', 'enabled_for_marketing_drip', 'org_id', 'invited_by_other_user'.</p>\n",
    "    <p>Select K best analysis on 0 to 1 scaled data allows us to reduce the feature set further.  The top 3 features have much higher scores than the rest: 'creation_source', 'last_session_creation_time', 'org_id'.  'last_session_creation_time' by far has the highest score, which suggests that the most recently logged in users will be engaged in the future.</p>\n",
    "    <p>Whether or not someone was invited by another user may not have as much of an impact on user adoption as intially surmised.</p>\n",
    "</b>"
   ]
  },
  {
   "cell_type": "code",
   "execution_count": 23,
   "metadata": {},
   "outputs": [
    {
     "name": "stdout",
     "output_type": "stream",
     "text": [
      "Top 3 selected features:\n",
      "['creation_source' 'last_session_creation_time' 'org_id']\n",
      "Feature scores:\n",
      "('creation_source', 18.01633186246204)\n",
      "('last_session_creation_time', 1605.1409334997004)\n",
      "('opted_in_to_mailing_list', 0.49417794590592773)\n",
      "('enabled_for_marketing_drip', 0.16234976038057072)\n",
      "('org_id', 53.644535617103635)\n",
      "('invited_by_other_user', 6.501235666325842)\n"
     ]
    }
   ],
   "source": [
    "from sklearn.feature_selection import SelectKBest, f_classif\n",
    "from sklearn.model_selection import train_test_split\n",
    "from sklearn.preprocessing import MinMaxScaler\n",
    "from sklearn.metrics import recall_score, precision_score\n",
    "from sklearn.linear_model import LogisticRegression\n",
    "\n",
    "full_feature_list = [\n",
    "    'creation_source',\n",
    "    'last_session_creation_time',\n",
    "    'opted_in_to_mailing_list',\n",
    "    'enabled_for_marketing_drip',\n",
    "    'org_id',\n",
    "    'invited_by_other_user'\n",
    "]\n",
    "\n",
    "scaler = MinMaxScaler()\n",
    "scaled_features = scaler.fit_transform(user_df[full_feature_list].values)\n",
    "\n",
    "num_features = 3\n",
    "selector = SelectKBest(f_classif, k=num_features)\n",
    "reduced_features = selector.fit_transform(scaled_features, user_df['engaged'])\n",
    "reduced_feature_list = np.array(full_feature_list)[selector.get_support()]\n",
    "\n",
    "print('Top', num_features, 'selected features:')\n",
    "print(reduced_feature_list)\n",
    "print('Feature scores:')\n",
    "for index, val in enumerate(full_feature_list):\n",
    "    print((val, selector.scores_[index]))"
   ]
  },
  {
   "cell_type": "markdown",
   "metadata": {},
   "source": [
    "<b>Run Logistic Regression on the full feature set and top 3 selected features.  Accuracy actually improves on the reduced feature set.</b>"
   ]
  },
  {
   "cell_type": "code",
   "execution_count": 21,
   "metadata": {},
   "outputs": [
    {
     "name": "stdout",
     "output_type": "stream",
     "text": [
      "Feature set: ['creation_source', 'last_session_creation_time', 'opted_in_to_mailing_list', 'enabled_for_marketing_drip', 'org_id', 'invited_by_other_user']\n",
      "Target label: engaged\n",
      "Logistic Regression Classifier\n",
      "-accuracy: 0.8100634632819583\n"
     ]
    }
   ],
   "source": [
    "feature_set = user_df[full_feature_list]\n",
    "X_train, X_test, y_train, y_test = train_test_split(\n",
    "    feature_set, user_df['engaged'], test_size=.25, random_state=42, shuffle=True\n",
    ")\n",
    "\n",
    "scaler = MinMaxScaler()\n",
    "X_train_scale = scaler.fit_transform(X_train.values)\n",
    "X_test_scale = scaler.fit_transform(X_test.values)\n",
    "\n",
    "clf = LogisticRegression()\n",
    "clf.fit(X_train_scale, y_train)\n",
    "\n",
    "print('Feature set:', full_feature_list)\n",
    "print('Target label: engaged')\n",
    "print('Logistic Regression Classifier')\n",
    "print('-accuracy:', clf.score(X_test_scale, y_test))"
   ]
  },
  {
   "cell_type": "code",
   "execution_count": 22,
   "metadata": {},
   "outputs": [
    {
     "name": "stdout",
     "output_type": "stream",
     "text": [
      "Feature set: ['creation_source' 'last_session_creation_time' 'org_id']\n",
      "Target label: engaged\n",
      "Logistic Regression Classifier\n",
      "-accuracy: 0.8118766999093382\n"
     ]
    }
   ],
   "source": [
    "feature_set = user_df[reduced_feature_list]\n",
    "X_train, X_test, y_train, y_test = train_test_split(\n",
    "    feature_set, user_df['engaged'], test_size=.25, random_state=42, shuffle=True\n",
    ")\n",
    "\n",
    "scaler = MinMaxScaler()\n",
    "X_train_scale = scaler.fit_transform(X_train.values)\n",
    "X_test_scale = scaler.fit_transform(X_test.values)\n",
    "\n",
    "clf = LogisticRegression()\n",
    "clf.fit(X_train_scale, y_train)\n",
    "\n",
    "print('Feature set:', reduced_feature_list)\n",
    "print('Target label: engaged')\n",
    "print('Logistic Regression Classifier')\n",
    "print('-accuracy:', clf.score(X_test_scale, y_test))"
   ]
  },
  {
   "cell_type": "markdown",
   "metadata": {},
   "source": [
    "<b>\n",
    "    <p>Last session time would make sense as the most influential factor on user adoption.  Those users who logged into the product most recently are more likely to have used the product more often recently as well, and will probably be frequent users in the near future.</p>\n",
    "    <p>Further exploration can be done on creation_source and org_id.  Which method of signing people up leads to long term users?  Which organizations are using the product the most?  That will allow us to target product promotion resources in the right areas.</p>\n",
    "    <p>An additional metric that can be added to the feature set is average product usage time per session.  That can help gauge user interest in the product content so that they stay engaged later on.</p>\n",
    "</b>"
   ]
  },
  {
   "cell_type": "code",
   "execution_count": null,
   "metadata": {},
   "outputs": [],
   "source": []
  }
 ],
 "metadata": {
  "kernelspec": {
   "display_name": "Python 3.6.10 64-bit ('capstone': conda)",
   "language": "python",
   "name": "python361064bitcapstonecondaccd97f80eb1d4d9b9a9bc41a0404f1e3"
  },
  "language_info": {
   "codemirror_mode": {
    "name": "ipython",
    "version": 3
   },
   "file_extension": ".py",
   "mimetype": "text/x-python",
   "name": "python",
   "nbconvert_exporter": "python",
   "pygments_lexer": "ipython3",
   "version": "3.6.10"
  }
 },
 "nbformat": 4,
 "nbformat_minor": 4
}
